{
 "cells": [
  {
   "cell_type": "markdown",
   "metadata": {},
   "source": [
    "# Preparation\n",
    "Import the modules:"
   ]
  },
  {
   "cell_type": "code",
   "execution_count": 1,
   "metadata": {},
   "outputs": [],
   "source": [
    "import time\n",
    "import random\n",
    "import numpy as np\n",
    "import matplotlib.pyplot as plt"
   ]
  },
  {
   "cell_type": "code",
   "execution_count": 2,
   "metadata": {},
   "outputs": [],
   "source": [
    "def read_num(file):\n",
    "    return int(file.readline())\n",
    "\n",
    "\n",
    "def read_matrix(file, number_of_objects):\n",
    "    return np.array([[int(num) for num in file.readline().split()]\n",
    "                     for _ in range(number_of_objects)], dtype='float64')"
   ]
  },
  {
   "cell_type": "markdown",
   "metadata": {},
   "source": [
    "# Normalization"
   ]
  },
  {
   "cell_type": "code",
   "execution_count": 3,
   "metadata": {},
   "outputs": [],
   "source": [
    "def dataset_minmax(ds):\n",
    "    minmax = list()\n",
    "    for i in range(len(ds[0])):\n",
    "        if i == len(ds[0]) - 1:\n",
    "            continue\n",
    "        value_min = ds[:, i].min()\n",
    "        value_max = ds[:, i].max()\n",
    "        minmax.append((value_min, value_max))\n",
    "    return minmax\n",
    "\n",
    "\n",
    "def normalize(ds, minmax):\n",
    "    for row in ds:\n",
    "        for i in range(len(row)):\n",
    "            if i == len(row) - 1:\n",
    "                continue\n",
    "            difference = minmax[i][1] - minmax[i][0]\n",
    "            row[i] = 0 if 0 == difference else (row[i] - minmax[i][0]) / difference  # (x - min) / (max - min)\n",
    "    return ds"
   ]
  },
  {
   "cell_type": "code",
   "execution_count": 4,
   "metadata": {},
   "outputs": [
    {
     "data": {
      "text/plain": [
       "array([[ 9.84951835e-01,  3.80368098e-01,  0.00000000e+00, ...,\n",
       "         0.00000000e+00,  1.00000000e+00, -6.21966200e+06],\n",
       "       [ 9.32624230e-01,  3.06748466e-01,  0.00000000e+00, ...,\n",
       "         0.00000000e+00,  9.95236372e-01, -4.47274000e+06],\n",
       "       [ 9.97813980e-01,  6.01226994e-01,  0.00000000e+00, ...,\n",
       "         0.00000000e+00,  9.43801254e-01, -4.25029200e+06],\n",
       "       ...,\n",
       "       [ 1.01555942e-01,  3.00613497e-01,  0.00000000e+00, ...,\n",
       "         0.00000000e+00,  1.05704293e-01,  3.06088720e+07],\n",
       "       [ 2.55061820e-01,  6.74846626e-01,  0.00000000e+00, ...,\n",
       "         0.00000000e+00,  1.03111433e-02,  3.18853990e+07],\n",
       "       [ 9.06476920e-02,  5.39877301e-01,  0.00000000e+00, ...,\n",
       "         0.00000000e+00,  0.00000000e+00,  3.43536600e+07]])"
      ]
     },
     "execution_count": 4,
     "metadata": {},
     "output_type": "execute_result"
    }
   ],
   "source": [
    "start_time = time.time()\n",
    "filename = 'datasets/1.txt'\n",
    "f = open(filename)\n",
    "\n",
    "# Number of features in objects excluding dependent variable.\n",
    "number_of_features = read_num(f)\n",
    "\n",
    "# Number of objects in a training set.\n",
    "number_of_trainings = read_num(f)\n",
    "\n",
    "# Description of training set objects.\n",
    "trainings_description = read_matrix(f, number_of_trainings)\n",
    "normalize_trainings = normalize(trainings_description, dataset_minmax(trainings_description))\n",
    "trainings_x = normalize_trainings[:, :-1]\n",
    "trainings_y = normalize_trainings[:, -1]\n",
    "\n",
    "# Number of objects in the test set.\n",
    "number_of_tests = read_num(f)\n",
    "\n",
    "# Description of the test set object.\n",
    "tests_description = read_matrix(f, number_of_tests)\n",
    "normalize_tests = normalize(tests_description, dataset_minmax(tests_description))\n",
    "test_x = tests_description[:, :-1]\n",
    "test_y = tests_description[:, -1]\n",
    "\n",
    "f.close()\n",
    "\n",
    "normalize_trainings"
   ]
  },
  {
   "cell_type": "code",
   "execution_count": 5,
   "metadata": {},
   "outputs": [],
   "source": [
    "def smape(y_actual, y_predicted):\n",
    "    return np.mean(np.abs(y_actual - y_predicted) / (np.abs(y_actual) + np.abs(y_predicted)))"
   ]
  },
  {
   "cell_type": "code",
   "execution_count": 6,
   "metadata": {},
   "outputs": [],
   "source": [
    "def regularization_pseudoinverse(_lambda):\n",
    "    if _lambda == 0:\n",
    "        res = np.linalg.pinv(trainings_x) @ trainings_y\n",
    "    else:\n",
    "        res = np.linalg.inv(trainings_x.T @ trainings_x + _lambda * np.eye(number_of_features)) \\\n",
    "              @ trainings_x.T @ trainings_y\n",
    "    return res, smape(test_y, res @ test_x.T), smape(trainings_y, res @ trainings_x.T)"
   ]
  },
  {
   "cell_type": "code",
   "execution_count": 7,
   "metadata": {},
   "outputs": [],
   "source": [
    "def regularization_stochastic_gradient_descent(reps, _lambda):\n",
    "    smape_tests = []\n",
    "    smape_trains = []\n",
    "    gradient = 0\n",
    "    omega = 0.9\n",
    "    weights = np.random.uniform(-1 / (2 * number_of_features),\n",
    "                                1 / (2 * number_of_features),\n",
    "                                number_of_features)\n",
    "    for num in map(lambda k: 1 / k, range(1, reps + 1)):\n",
    "        i = random.randint(0, number_of_features - 1)\n",
    "        gradient = 2 * ((1 - omega) * ((weights @ trainings_x[i]) - trainings_y[i])\n",
    "                        * trainings_x[i] + _lambda * weights) + omega * gradient\n",
    "        weights -= num * gradient\n",
    "        smape_tests.append(smape(test_y, weights @ test_x.T))\n",
    "        smape_trains.append(smape(trainings_y, weights @ trainings_x.T))\n",
    "    return weights, smape_tests, smape_trains"
   ]
  },
  {
   "cell_type": "markdown",
   "metadata": {},
   "source": [
    "# Hyperparameter setting"
   ]
  },
  {
   "cell_type": "code",
   "execution_count": 8,
   "metadata": {},
   "outputs": [],
   "source": [
    "def find_best(algo):\n",
    "    y_predicted = algo(0)[0] @ test_x.T\n",
    "    min_error = smape(test_y, y_predicted)\n",
    "    best_res = 0\n",
    "    # start, end, qty\n",
    "    for res in np.linspace(0, 2, 500):\n",
    "        y_predicted = algo(res)[0] @ test_x.T\n",
    "        score = smape(test_y, y_predicted)\n",
    "        if score < min_error:\n",
    "            best_res = res\n",
    "            min_error = score\n",
    "    print(best_res, \" (with score \", min_error, \")\")\n",
    "    return best_res"
   ]
  },
  {
   "cell_type": "markdown",
   "metadata": {},
   "source": [
    "# Analysis"
   ]
  },
  {
   "cell_type": "code",
   "execution_count": null,
   "metadata": {},
   "outputs": [],
   "source": [
    "print(\"Best hyperparameters: \")\n",
    "print(\"1. Least squares \")\n",
    "find_best(regularization_pseudoinverse)\n",
    "print(\"2. Stochastic gradient \")\n",
    "find_best(lambda x: regularization_stochastic_gradient_descent(2000, x))"
   ]
  },
  {
   "cell_type": "code",
   "execution_count": 20,
   "metadata": {
    "scrolled": true
   },
   "outputs": [
    {
     "data": {
      "image/png": "[encoded data removed]",
      "text/plain": [
       "<Figure size 432x288 with 1 Axes>"
      ]
     },
     "metadata": {
      "needs_background": "light"
     },
     "output_type": "display_data"
    },
    {
     "name": "stdout",
     "output_type": "stream",
     "text": [
      "Total working time: 88.94250249862671 seconds.\n"
     ]
    }
   ],
   "source": [
    "def graph(p_best_lambda, g_best_lambda):\n",
    "    w, smape_tests, smape_trains = regularization_stochastic_gradient_descent(2000, g_best_lambda)\n",
    "    w, smape_test, smape_train = regularization_pseudoinverse(p_best_lambda)\n",
    "    x = np.arange(1, len(smape_tests) + 1)\n",
    "    plt.plot(x, np.repeat(smape_train, len(x)), label='Least squares trainings')\n",
    "    plt.plot(x, np.repeat(smape_test, len(x)), label='Least squares test')\n",
    "    plt.plot(x, smape_trains, label='Stochastic gradient trainings')\n",
    "    plt.plot(x, smape_tests, label='Stochastic gradient test')\n",
    "    plt.xlabel('Number of iterations')\n",
    "    plt.ylabel('SMAPE')\n",
    "    plt.legend()\n",
    "    plt.grid(True)\n",
    "    plt.show()\n",
    "\n",
    "\n",
    "graph(0.3807615230460922, 0.05016722408026756)\n",
    "\n",
    "print(\"Total working time: %s seconds.\" % (time.time() - start_time))"
   ]
  }
 ],
 "metadata": {
  "kernelspec": {
   "display_name": "Python 3",
   "language": "python",
   "name": "python3"
  },
  "language_info": {
   "codemirror_mode": {
    "name": "ipython",
    "version": 3
   },
   "file_extension": ".py",
   "mimetype": "text/x-python",
   "name": "python",
   "nbconvert_exporter": "python",
   "pygments_lexer": "ipython3",
   "version": "3.8.6"
  }
 },
 "nbformat": 4,
 "nbformat_minor": 4
}