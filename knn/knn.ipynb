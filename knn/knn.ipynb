{
 "cells": [
  {
   "cell_type": "markdown",
   "metadata": {},
   "source": [
    "# Preparation\n",
    "Импортируем необходимые модули"
   ]
  },
  {
   "cell_type": "code",
   "execution_count": 12,
   "metadata": {},
   "outputs": [],
   "source": [
    "import time\n",
    "import numpy as np\n",
    "import pandas as pd\n",
    "import kernels as k\n",
    "import metrics as m\n",
    "import matplotlib.pyplot as plt"
   ]
  },
  {
   "cell_type": "markdown",
   "metadata": {},
   "source": [
    "Вынесем метрики в `metrics.py`:"
   ]
  },
  {
   "cell_type": "code",
   "execution_count": null,
   "metadata": {},
   "outputs": [],
   "source": [
    "# %load metrics.py\n",
    "import numpy as np\n",
    "\n",
    "# Metrics\n",
    "def distance_euclidean(row1, row2):\n",
    "    distance = 0.0\n",
    "    for i in range(len(row2) - 1):\n",
    "        distance += (row1[i] - row2[i]) ** 2\n",
    "    return np.sqrt(distance)\n",
    "\n",
    "\n",
    "def distance_manhattan(row1, row2):\n",
    "    distance = 0.0\n",
    "    for i in range(len(row2) - 1):\n",
    "        distance += abs(row1[i] - row2[i])\n",
    "    return distance\n",
    "\n",
    "\n",
    "def distance_chebyshev(row1, row2):\n",
    "    distance = 0.0\n",
    "    for i in range(len(row2) - 1):\n",
    "        distance = max(distance, abs(row1[i] - row2[i]))\n",
    "    return distance\n",
    "\n",
    "metrics = {\n",
    "    \"euclidean\": distance_euclidean,\n",
    "    \"chebyshev\": distance_chebyshev,\n",
    "    \"manhattan\": distance_manhattan,\n",
    "}\n"
   ]
  },
  {
   "cell_type": "markdown",
   "metadata": {},
   "source": [
    "Вынесем ядра в `kernels.py`:"
   ]
  },
  {
   "cell_type": "code",
   "execution_count": null,
   "metadata": {},
   "outputs": [],
   "source": [
    "# %load kernels.py\n",
    "# Kernels\n",
    "def kernel_uniform(u):\n",
    "    return 0.5 if abs(u) <= 1 else 0.0\n",
    "\n",
    "\n",
    "def kernel_triangular(u):\n",
    "    return max(0, 1 - abs(u))\n",
    "\n",
    "\n",
    "def kernel_epanechnikov(u):\n",
    "    return max(0, 0.75 * (1 - u * u))\n",
    "\n",
    "\n",
    "def kernel_quartic(u):\n",
    "    return max(0, 15 / 16 * ((1 - u * u) ** 2))\n",
    "\n",
    "\n",
    "kernels = {\n",
    "    \"uniform\": kernel_uniform,\n",
    "    \"triangular\": kernel_triangular,\n",
    "    \"epanechnikov\": kernel_epanechnikov,\n",
    "    \"quartic\": kernel_quartic,\n",
    "}"
   ]
  },
  {
   "cell_type": "markdown",
   "metadata": {},
   "source": [
    "Считаем датасет."
   ]
  },
  {
   "cell_type": "code",
   "execution_count": 2,
   "metadata": {},
   "outputs": [
    {
     "name": "stdout",
     "output_type": "stream",
     "text": [
      "     buying  maint  doors persons lug_boot safety  class\n",
      "0     vhigh  vhigh      2       2    small    low  unacc\n",
      "1     vhigh  vhigh      2       2    small    med  unacc\n",
      "2     vhigh  vhigh      2       2    small   high  unacc\n",
      "3     vhigh  vhigh      2       2      med    low  unacc\n",
      "4     vhigh  vhigh      2       2      med    med  unacc\n",
      "...     ...    ...    ...     ...      ...    ...    ...\n",
      "1723    low    low  5more    more      med    med   good\n",
      "1724    low    low  5more    more      med   high  vgood\n",
      "1725    low    low  5more    more      big    low  unacc\n",
      "1726    low    low  5more    more      big    med   good\n",
      "1727    low    low  5more    more      big   high  vgood\n",
      "\n",
      "[1728 rows x 7 columns]\n"
     ]
    }
   ],
   "source": [
    "# Link on dataset: https://www.openml.org/d/40975\n",
    "filename = \"cars.csv\"\n",
    "'''\n",
    "CAR                      car acceptability\n",
    ". PRICE                  overall price \n",
    ". . buying               buying price                          -- {low, med, high, vhigh}\n",
    ". . maint                price of the maintenance              -- {low, med, high, vhigh}\n",
    ". TECH                   technical characteristics\n",
    ". . COMFORT              comfort                    \n",
    ". . . doors              number of doors                       -- {2, 3, 4, 5more}\n",
    ". . . persons            capacity in terms of persons to carry -- {2, 4, more}\n",
    ". . . lug_boot           the size of luggage boot              -- {small, med, big}\n",
    ". . safety               estimated safety of the car           -- {low, med, high}\n",
    "\n",
    "CLASS                                                          -- {unacc, acc, good, vgood}\n",
    "'''\n",
    "dataset = pd.read_csv(filename)\n",
    "print(dataset)"
   ]
  },
  {
   "cell_type": "markdown",
   "metadata": {},
   "source": [
    "# Vectorization\n",
    "Векторизуем датасет."
   ]
  },
  {
   "cell_type": "code",
   "execution_count": 3,
   "metadata": {},
   "outputs": [
    {
     "name": "stdout",
     "output_type": "stream",
     "text": [
      "      buying  maint  doors  persons  lug_boot  safety         class\n",
      "0          3      3      0        0         0       0  [0, 0, 0, 1]\n",
      "1          3      3      0        0         0       1  [0, 0, 0, 1]\n",
      "2          3      3      0        0         0       2  [0, 0, 0, 1]\n",
      "3          3      3      0        0         1       0  [0, 0, 0, 1]\n",
      "4          3      3      0        0         1       1  [0, 0, 0, 1]\n",
      "...      ...    ...    ...      ...       ...     ...           ...\n",
      "1723       0      0      3        2         1       1  [0, 1, 0, 0]\n",
      "1724       0      0      3        2         1       2  [1, 0, 0, 0]\n",
      "1725       0      0      3        2         2       0  [0, 0, 0, 1]\n",
      "1726       0      0      3        2         2       1  [0, 1, 0, 0]\n",
      "1727       0      0      3        2         2       2  [1, 0, 0, 0]\n",
      "\n",
      "[1728 rows x 7 columns]\n"
     ]
    }
   ],
   "source": [
    "\n",
    "buying = maint = {'low': 0, 'med': 1, 'high': 2, 'vhigh': 3}\n",
    "doors = {'2': 0, '3': 1, '4': 2, '5more': 3}\n",
    "persons = {'2': 0, '4': 1, 'more': 2}\n",
    "lug_boot = {'small': 0, 'med': 1, 'big': 2}\n",
    "safety = {'low': 0, 'med': 1, 'high': 2}\n",
    "target_variable_one_hot = {'unacc': np.array([0, 0, 0, 1]), 'acc': np.array([0, 0, 1, 0]), 'good': np.array([0, 1, 0, 0]), 'vgood': np.array([1, 0, 0, 0])}\n",
    "target_variable_int = {'unacc': 0, 'acc': 1, 'good': 2, 'vgood': 3}\n",
    "\n",
    "def col_to_list(mapper, name_to_str):\n",
    "    return list(map(lambda x: mapper.get(x, 0), dataset[name_to_str].values.tolist()))  # default = 0\n",
    "\n",
    "def variables_to_data_frame():\n",
    "    return pd.DataFrame({\n",
    "        'buying': col_to_list(buying, 'buying'),\n",
    "        'maint': col_to_list(maint, 'maint'),\n",
    "        'doors': col_to_list(doors, 'doors'),\n",
    "        'persons': col_to_list(persons, 'persons'),\n",
    "        'lug_boot': col_to_list(lug_boot, 'lug_boot'),\n",
    "        'safety': col_to_list(safety, 'safety')\n",
    "    })\n",
    "\n",
    "dataset_int = variables_to_data_frame()\n",
    "dataset_int['class'] = col_to_list(target_variable_int, 'class')\n",
    "dataset_one_hot = dataset_int\n",
    "dataset_one_hot['class'] = col_to_list(target_variable_one_hot, 'class')\n",
    "print(dataset_one_hot)"
   ]
  },
  {
   "cell_type": "markdown",
   "metadata": {},
   "source": [
    "# Normalization\n",
    "Нормализуем датасет."
   ]
  },
  {
   "cell_type": "code",
   "execution_count": 4,
   "metadata": {},
   "outputs": [
    {
     "name": "stdout",
     "output_type": "stream",
     "text": [
      "[[1.0 1.0 0.0 ... 0.0 0.0 array([0, 0, 0, 1])]\n",
      " [1.0 1.0 0.0 ... 0.0 0.5 array([0, 0, 0, 1])]\n",
      " [1.0 1.0 0.0 ... 0.0 1.0 array([0, 0, 0, 1])]\n",
      " ...\n",
      " [0.0 0.0 1.0 ... 1.0 0.0 array([0, 0, 0, 1])]\n",
      " [0.0 0.0 1.0 ... 1.0 0.5 array([0, 1, 0, 0])]\n",
      " [0.0 0.0 1.0 ... 1.0 1.0 array([1, 0, 0, 0])]]\n"
     ]
    }
   ],
   "source": [
    "def dataset_minmax(ds):\n",
    "    minmax = list()\n",
    "    for i in range(len(ds[0])):\n",
    "        if i == len(ds[0]) - 1:\n",
    "            continue\n",
    "        value_min = ds[:, i].min()\n",
    "        value_max = ds[:, i].max()\n",
    "        minmax.append((value_min, value_max))\n",
    "    return minmax\n",
    "\n",
    "def normalize(ds, minmax):\n",
    "    for row in ds:\n",
    "        for i in range(len(row)):\n",
    "            if i == len(row) - 1:\n",
    "                continue\n",
    "            row[i] = (row[i] - minmax[i][0]) / (minmax[i][1] - minmax[i][0])  # (x - min) / (max - min)\n",
    "    return ds\n",
    "\n",
    "min_max = dataset_minmax(dataset_one_hot.values)\n",
    "norm = normalize(dataset_one_hot.values, min_max)\n",
    "print(norm)\n",
    "ds_norm = normalize(dataset_one_hot.values, min_max).tolist()\n"
   ]
  },
  {
   "cell_type": "markdown",
   "metadata": {},
   "source": [
    "# Hyperparameter setting"
   ]
  },
  {
   "cell_type": "markdown",
   "metadata": {},
   "source": [
    "Нахождение ближайших `number_neighbors` соседей по метрике `metric` к элементу `test_row`."
   ]
  },
  {
   "cell_type": "code",
   "execution_count": 5,
   "metadata": {},
   "outputs": [],
   "source": [
    "def find_neighbors(ds_without_test, test_row, metric, number_neighbors):\n",
    "    neighbours = [(metric(test_row, train_row), train_row[-1]) for train_row in ds_without_test]\n",
    "    neighbours.sort(key=lambda tup: tup[0])\n",
    "    return neighbours[:number_neighbors + 1]"
   ]
  },
  {
   "cell_type": "markdown",
   "metadata": {},
   "source": [
    "Решение на основе формулы [Надарая-Ватсона](http://www.machinelearning.ru/wiki/index.php?title=%D0%9E%D1%86%D0%B5%D0%BD%D0%BA%D0%B0_%D0%9D%D0%B0%D0%B4%D0%B0%D1%80%D0%B0%D1%8F-%D0%92%D0%B0%D1%82%D1%81%D0%BE%D0%BD%D0%B0) c метрикой `metric`, ядром `kernel`, количеством ближайших соседей `number_neighbors`."
   ]
  },
  {
   "cell_type": "code",
   "execution_count": 6,
   "metadata": {},
   "outputs": [],
   "source": [
    "def calc_nadaraya(ds_without_test, test_row, metric, kernel, number_neighbors):\n",
    "    neighbours = find_neighbors(ds_without_test, test_row, metric, number_neighbors)\n",
    "    numerator = 0\n",
    "    denominator = 0\n",
    "    h = neighbours[-1][0]\n",
    "    for neighbour in neighbours:\n",
    "        numerator += neighbour[1] * kernel(neighbour[0] / h)\n",
    "        denominator += kernel(neighbour[0] / h)\n",
    "    return numerator / denominator if denominator != 0 else 0"
   ]
  },
  {
   "cell_type": "markdown",
   "metadata": {},
   "source": [
    "Leave-One-Out перекрёстная проверка"
   ]
  },
  {
   "cell_type": "code",
   "execution_count": 7,
   "metadata": {},
   "outputs": [],
   "source": [
    "def class_to_int(target_class):\n",
    "    return np.argmax(target_class)\n",
    "\n",
    "def leave_one_out(ds, test_index, metric, kernel, number_neighbors):\n",
    "    test_row = ds[test_index]\n",
    "    ds_without_test = ds[:test_index] + ds[test_index + 1:]\n",
    "    nadaraya = calc_nadaraya(ds_without_test, test_row, metric, kernel, number_neighbors)\n",
    "    return class_to_int(test_row[-1]), class_to_int(nadaraya)"
   ]
  },
  {
   "cell_type": "markdown",
   "metadata": {},
   "source": [
    "Посчитаем [F-меру](http://bazhenov.me/blog/2012/07/21/classification-performance-evaluation.html) с использованием матрицы неточностей (confusion matrix)."
   ]
  },
  {
   "cell_type": "code",
   "execution_count": 8,
   "metadata": {},
   "outputs": [],
   "source": [
    "def cals_f_measure(ds, metric, kernel, number_neighbors):\n",
    "    number_classes = len(target_variable_one_hot)\n",
    "    confusion_matrix = np.zeros((number_classes, number_classes))\n",
    "    for test_index in range(len(ds)):\n",
    "        res = leave_one_out(ds, test_index, metric, kernel, number_neighbors)\n",
    "        confusion_matrix[res[0]][res[1]] += 1  \n",
    "    \n",
    "    size = len(confusion_matrix)\n",
    "    precision = sum([confusion_matrix[i][i] / max(sum(confusion_matrix[i]), 0.01) for i in range(size)]) / size\n",
    "    recall = sum([confusion_matrix[i][i] / max(sum(confusion_matrix[:, i]), 0.01) for i in range(size)]) / size\n",
    "    return 2 * precision * recall / (precision + recall)"
   ]
  },
  {
   "cell_type": "markdown",
   "metadata": {},
   "source": [
    "# Analysis of results and charting\n",
    "Перебираем гиперпараметры и находим лучшую комбинацию (предподсчет)."
   ]
  },
  {
   "cell_type": "code",
   "execution_count": 9,
   "metadata": {},
   "outputs": [],
   "source": [
    "def find_best(ds):\n",
    "    all_result = {}\n",
    "    for (kernel_name, kernel) in k.kernels.items():\n",
    "        for (metric_name, metric) in m.metrics.items():\n",
    "            for number_neighbors in range(1, int(np.sqrt(len(ds)))):\n",
    "                name = kernel_name + \"-\" + metric_name + \"-\" + str(number_neighbors)\n",
    "                res = cals_f_measure(ds, metric, kernel, number_neighbors)\n",
    "                all_result[name] = res\n",
    "                f.write(name + \",\" + str(res) + \"\\n\")\n",
    "\n",
    "# finds the best combination of hyperparameters (pre-calculation)\n",
    "f = open(r\"ans.txt\", 'a')\n",
    "start_time = time.time()\n",
    "# find_best(ds_norm)\n",
    "f.close()"
   ]
  },
  {
   "cell_type": "markdown",
   "metadata": {},
   "source": [
    "Строим график совпадения."
   ]
  },
  {
   "cell_type": "code",
   "execution_count": 10,
   "metadata": {},
   "outputs": [
    {
     "data": {
      "image/png": "[encoded data removed]",
      "text/plain": [
       "<Figure size 432x288 with 1 Axes>"
      ]
     },
     "metadata": {
      "needs_background": "light"
     },
     "output_type": "display_data"
    }
   ],
   "source": [
    "def plot_predict(ds, index, x, y):\n",
    "    class_to_color = list(map(lambda clazz: {'unacc': 'b', 'acc': 'c', 'good': 'y', 'vgood': 'k'}[clazz], ds[:, -1]))\n",
    "    class_to_color.append(\"r\")\n",
    "\n",
    "    col_x = list(ds[:, x])\n",
    "    col_x.append(ds[index][x])\n",
    "    col_y = list(ds[:, y])\n",
    "    col_y.append(ds[index][y])\n",
    "\n",
    "    plt.scatter(col_x, col_y, c=class_to_color)\n",
    "    plt.show()\n",
    "    \n",
    "plot_predict(dataset.values, 38, 2, 3)"
   ]
  },
  {
   "cell_type": "markdown",
   "metadata": {},
   "source": [
    "Для лучшей найденной комбинации гиперпараметров строим график зависимости F-меры от числа ближайших соседей."
   ]
  },
  {
   "cell_type": "code",
   "execution_count": 11,
   "metadata": {},
   "outputs": [
    {
     "name": "stdout",
     "output_type": "stream",
     "text": [
      "Best hyperparameters (with result 0.9766946409812967): uniform-manhattan-4\n",
      "F-measures:\n",
      "\n",
      "1.\t0.7666573060111855\n",
      "2.\t0.8174136069997151\n",
      "3.\t0.9160471525327393\n",
      "4.\t0.9766946409812967\n",
      "5.\t0.9603152360582091\n",
      "6.\t0.9416091901026553\n",
      "7.\t0.9388944938304735\n",
      "8.\t0.9351014242505802\n",
      "9.\t0.912556363218965\n",
      "10.\t0.8954151220316312\n",
      "11.\t0.8849886893562765\n",
      "12.\t0.8492237707691243\n",
      "13.\t0.8439055741591515\n",
      "14.\t0.8403184247557776\n",
      "15.\t0.8522836069507957\n"
     ]
    },
    {
     "data": {
      "image/png": "[encoded data removed]",
      "text/plain": [
       "<Figure size 432x288 with 1 Axes>"
      ]
     },
     "metadata": {
      "needs_background": "light"
     },
     "output_type": "display_data"
    },
    {
     "name": "stdout",
     "output_type": "stream",
     "text": [
      "Total working time: 44.10533857345581 seconds.\n"
     ]
    }
   ],
   "source": [
    "f = open('ans.txt')\n",
    "params = {line.split()[1]: line.split()[0] for line in f}\n",
    "best_f_measure = max(params)\n",
    "best_params = params[best_f_measure]\n",
    "print('Best hyperparameters (with result ' + str(best_f_measure) + '): ' + best_params)\n",
    "\n",
    "best_params_to_list = best_params.split('-')\n",
    "best_kernel = best_params_to_list[0]\n",
    "best_metric = best_params_to_list[1]\n",
    "best_number_neighbors = int(best_params_to_list[2])\n",
    "\n",
    "def graph(ds, metric, kernel, best_num):\n",
    "    max_number_neighbors = range(1, best_num ** 2)\n",
    "    results = []\n",
    "    print('F-measures:\\n')\n",
    "    for number_neighbors in max_number_neighbors:\n",
    "        res = cals_f_measure(ds, metric, kernel, number_neighbors)\n",
    "        print(str(number_neighbors) + \".\\t\" + str(res))\n",
    "        results.append(res)\n",
    "    plt.scatter(max_number_neighbors, results)\n",
    "    plt.show()\n",
    "\n",
    "graph(ds_norm, m.metrics[best_metric], k.kernels[best_kernel], best_number_neighbors)\n",
    "\n",
    "print(\"Total working time: %s seconds.\" % (time.time() - start_time))"
   ]
  }
 ],
 "metadata": {
  "kernelspec": {
   "display_name": "Python 3",
   "language": "python",
   "name": "python3"
  },
  "language_info": {
   "codemirror_mode": {
    "name": "ipython",
    "version": 3
   },
   "file_extension": ".py",
   "mimetype": "text/x-python",
   "name": "python",
   "nbconvert_exporter": "python",
   "pygments_lexer": "ipython3",
   "version": "3.8.5"
  }
 },
 "nbformat": 4,
 "nbformat_minor": 4
}
